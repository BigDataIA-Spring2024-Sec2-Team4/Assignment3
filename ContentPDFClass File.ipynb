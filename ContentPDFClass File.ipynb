{
 "cells": [
  {
   "cell_type": "markdown",
   "id": "d5ffad82",
   "metadata": {},
   "source": [
    "### ContentPDFClass: Stores the extracted content from each PDF file"
   ]
  },
  {
   "cell_type": "code",
   "execution_count": 33,
   "id": "5d4aefe8",
   "metadata": {},
   "outputs": [],
   "source": [
    "import pandas as pd\n",
    "from lxml import etree\n",
    "\n",
    "# File paths\n",
    "txt_files = [\n",
    "    \"/Users/riyasingh/Downloads/Datasets/PyPDF/PyPDF_RR_2024_l1_combined.txt\",\n",
    "    \"/Users/riyasingh/Downloads/Datasets/PyPDF/PyPDF_RR_2024_l2_combined.txt\",\n",
    "    \"/Users/riyasingh/Downloads/Datasets/PyPDF/PyPDF_RR_2024_l3_combined.txt\"\n",
    "]\n",
    "\n",
    "xml_files = [\n",
    "    \"/Users/riyasingh/Downloads/Datasets/Grobid/Grobid_RR_2024_l1_combined.xml\",\n",
    "    \"/Users/riyasingh/Downloads/Datasets/Grobid/Grobid_RR_2024_l2_combined.xml\",\n",
    "    \"/Users/riyasingh/Downloads/Datasets/Grobid/Grobid_RR_2024_l3_combined.xml\"\n",
    "]\n",
    "\n",
    "# Read text file content up to the first newline character\n",
    "def read_first_line(file_path):\n",
    "    with open(file_path, 'r', encoding='utf-8') as file:\n",
    "        return file.readline().strip()\n",
    "\n",
    "# Extract data from XML based on provided structure and requirements\n",
    "def extract_data_from_xml(file_path):\n",
    "    ns = {'tei': 'http://www.tei-c.org/ns/1.0'}\n",
    "    topics = []\n",
    "    heading =[]\n",
    "    head_with_p = []  # Correct variable name used\n",
    "    learning_outcomes_found = False\n",
    "\n",
    "    with open(file_path, 'rb') as file:\n",
    "        tree = etree.parse(file)\n",
    "        divs = tree.findall('.//tei:div', namespaces=ns)\n",
    "        subtopics = []\n",
    "        for div in divs:\n",
    "            head = div.find('tei:head', namespaces=ns)\n",
    "            if head is not None and head.text:\n",
    "                subtopics.append(head.text.strip())\n",
    "                if head.text.strip() == \"LEARNING OUTCOMES\":\n",
    "                    subtopics.pop(-1)\n",
    "                    heading.append(subtopics[-1])\n",
    "                    subtopics.pop(-1)\n",
    "                    topics.append(subtopics)\n",
    "                    subtopics = []\n",
    "                    continue\n",
    "    \n",
    "    topics.append(subtopics)\n",
    "    # Correctly use head_with_p variable\n",
    "    return topics, heading\n",
    "\n",
    "\n",
    "\n",
    "# Process files and collect data\n",
    "data = []\n",
    "for txt_file, xml_file in zip(txt_files, xml_files):\n",
    "    first_line = read_first_line(txt_file)\n",
    "    topics, heading = extract_data_from_xml(xml_file)\n",
    "    heading.insert(0,first_line)\n",
    "    for i in range(len(topics)):\n",
    "        data.append([xml_file.split('/')[-1], heading[i],'|'.join(topics[i]),len(topics[i])])\n",
    "    \n",
    "\n",
    "# Convert to DataFrame\n",
    "df = pd.DataFrame(data, columns=['File Name','Headings', 'Topics', 'Topics Count'])\n",
    "\n",
    "# Write to CSV\n",
    "output_csv_path = \"/Users/riyasingh/Downloads/Datasets/final_output.csv\"\n",
    "df.to_csv(output_csv_path, index=False)\n"
   ]
  }
 ],
 "metadata": {
  "kernelspec": {
   "display_name": "Python 3 (ipykernel)",
   "language": "python",
   "name": "python3"
  },
  "language_info": {
   "codemirror_mode": {
    "name": "ipython",
    "version": 3
   },
   "file_extension": ".py",
   "mimetype": "text/x-python",
   "name": "python",
   "nbconvert_exporter": "python",
   "pygments_lexer": "ipython3",
   "version": "3.11.5"
  }
 },
 "nbformat": 4,
 "nbformat_minor": 5
}
