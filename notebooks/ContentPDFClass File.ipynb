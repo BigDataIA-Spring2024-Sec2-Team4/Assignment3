{
 "cells": [
  {
   "cell_type": "markdown",
   "id": "a72fc6f9",
   "metadata": {},
   "source": [
    "### ContentPDFClass: Stores the extracted content from each PDF file"
   ]
  },
  {
   "cell_type": "code",
   "execution_count": 8,
   "id": "1ade1b70",
   "metadata": {},
   "outputs": [
    {
     "name": "stdout",
     "output_type": "stream",
     "text": [
      "Defaulting to user installation because normal site-packages is not writeable\n",
      "Requirement already satisfied: lxml in /Users/riyasingh/Library/Python/3.9/lib/python/site-packages (5.1.0)\n",
      "\u001b[33mWARNING: You are using pip version 21.2.4; however, version 24.0 is available.\n",
      "You should consider upgrading via the '/Library/Developer/CommandLineTools/usr/bin/python3 -m pip install --upgrade pip' command.\u001b[0m\n"
     ]
    }
   ],
   "source": [
    "! pip3 install lxml"
   ]
  },
  {
   "cell_type": "code",
   "execution_count": 9,
   "id": "d23ebbdb",
   "metadata": {},
   "outputs": [],
   "source": [
    "import pandas as pd\n",
    "from lxml import etree\n",
    "\n",
    "# File paths\n",
    "txt_files = [\n",
    "    \"../Datasets/PyPDF/PyPDF_RR_2024_l1_combined.txt\",\n",
    "    \"../Datasets/PyPDF/PyPDF_RR_2024_l2_combined.txt\",\n",
    "    \"../Datasets/PyPDF/PyPDF_RR_2024_l3_combined.txt\"\n",
    "]\n",
    "\n",
    "xml_files = [\n",
    "    \"../Datasets/Grobid/Grobid_RR_2024_l1_combined.xml\",\n",
    "    \"../Datasets/Grobid/Grobid_RR_2024_l2_combined.xml\",\n",
    "    \"../Datasets/Grobid/Grobid_RR_2024_l3_combined.xml\"\n",
    "]\n",
    "\n",
    "# Read text file content up to the first newline character\n",
    "def read_first_line(file_path):\n",
    "    with open(file_path, 'r', encoding='utf-8') as file:\n",
    "        return file.readline().strip()\n",
    "\n",
    "# Extract data from XML based on provided structure and requirements\n",
    "def extract_data_from_xml(file_path):\n",
    "    ns = {'tei': 'http://www.tei-c.org/ns/1.0'}\n",
    "    topics = []\n",
    "    heading =[]\n",
    "    head_with_p = []  # Correct variable name used\n",
    "    learning_outcomes_found = False\n",
    "\n",
    "    with open(file_path, 'rb') as file:\n",
    "        tree = etree.parse(file)\n",
    "        divs = tree.findall('.//tei:div', namespaces=ns)\n",
    "        subtopics = []\n",
    "        for div in divs:\n",
    "            head = div.find('tei:head', namespaces=ns)\n",
    "            if head is not None and head.text:\n",
    "                subtopics.append(head.text.strip())\n",
    "                if head.text.strip() == \"LEARNING OUTCOMES\":\n",
    "                    subtopics.pop(-1)\n",
    "                    heading.append(subtopics[-1])\n",
    "                    subtopics.pop(-1)\n",
    "                    topics.append(subtopics)\n",
    "                    subtopics = []\n",
    "                    continue\n",
    "    \n",
    "    topics.append(subtopics)\n",
    "    # Correctly use head_with_p variable\n",
    "    return topics, heading\n",
    "\n",
    "\n",
    "\n",
    "# Process files and collect data\n",
    "data = []\n",
    "for txt_file, xml_file in zip(txt_files, xml_files):\n",
    "    first_line = read_first_line(txt_file)\n",
    "    topics, heading = extract_data_from_xml(xml_file)\n",
    "    heading.insert(0,first_line)\n",
    "    for i in range(len(topics)):\n",
    "        data.append([xml_file.split('/')[-1], heading[i],'|'.join(topics[i]),len(topics[i])])\n",
    "    \n",
    "\n",
    "# Convert to DataFrame\n",
    "df = pd.DataFrame(data, columns=['File Name','Headings', 'Topics', 'Topics Count'])\n",
    "\n",
    "# Write to CSV\n",
    "output_csv_path = \"../Datasets/final_output.csv\"\n",
    "df.to_csv(output_csv_path, index=False)\n"
   ]
  },
  {
   "cell_type": "code",
   "execution_count": 10,
   "id": "d35cfbf2",
   "metadata": {},
   "outputs": [
    {
     "name": "stdout",
     "output_type": "stream",
     "text": [
      "Defaulting to user installation because normal site-packages is not writeable\n",
      "Requirement already satisfied: pydantic in /Users/riyasingh/Library/Python/3.9/lib/python/site-packages (2.6.3)\n",
      "Requirement already satisfied: annotated-types>=0.4.0 in /Users/riyasingh/Library/Python/3.9/lib/python/site-packages (from pydantic) (0.6.0)\n",
      "Requirement already satisfied: pydantic-core==2.16.3 in /Users/riyasingh/Library/Python/3.9/lib/python/site-packages (from pydantic) (2.16.3)\n",
      "Requirement already satisfied: typing-extensions>=4.6.1 in /Users/riyasingh/Library/Python/3.9/lib/python/site-packages (from pydantic) (4.9.0)\n",
      "\u001b[33mWARNING: You are using pip version 21.2.4; however, version 24.0 is available.\n",
      "You should consider upgrading via the '/Library/Developer/CommandLineTools/usr/bin/python3 -m pip install --upgrade pip' command.\u001b[0m\n"
     ]
    }
   ],
   "source": [
    "! pip3 install pydantic"
   ]
  },
  {
   "cell_type": "markdown",
   "id": "d8d616ef",
   "metadata": {},
   "source": [
    "Step 1: Define Pydantic Models"
   ]
  },
  {
   "cell_type": "code",
   "execution_count": 11,
   "id": "ef78ea1d",
   "metadata": {},
   "outputs": [
    {
     "name": "stderr",
     "output_type": "stream",
     "text": [
      "/var/folders/g6/6zt2_rp57dq8l45n6hd1gd_80000gn/T/ipykernel_33831/3652341833.py:10: PydanticDeprecatedSince20: Pydantic V1 style `@validator` validators are deprecated. You should migrate to Pydantic V2 style `@field_validator` validators, see the migration guide for more details. Deprecated in Pydantic V2.0 to be removed in V3.0. See Pydantic V2 Migration Guide at https://errors.pydantic.dev/2.6/migration/\n",
      "  @validator('file_name')\n",
      "/var/folders/g6/6zt2_rp57dq8l45n6hd1gd_80000gn/T/ipykernel_33831/3652341833.py:16: PydanticDeprecatedSince20: Pydantic V1 style `@validator` validators are deprecated. You should migrate to Pydantic V2 style `@field_validator` validators, see the migration guide for more details. Deprecated in Pydantic V2.0 to be removed in V3.0. See Pydantic V2 Migration Guide at https://errors.pydantic.dev/2.6/migration/\n",
      "  @validator('topics_count')\n"
     ]
    }
   ],
   "source": [
    "from pydantic import BaseModel, Field, validator\n",
    "from typing import List\n",
    "import re\n",
    "class ContentPDFClass(BaseModel):\n",
    "    file_name: str = Field(..., alias='File Name')\n",
    "    headings: str = Field(..., alias='Headings')\n",
    "    topics: str = Field(..., alias='Topics')\n",
    "    topics_count: int = Field(..., alias='Topics Count')\n",
    "    \n",
    "    @validator('file_name')\n",
    "    def file_name_must_be_valid(cls, v):\n",
    "        if not v.endswith(\".xml\"):\n",
    "            raise ValueError(\"File name must end with .xml\")\n",
    "        return v\n",
    "\n",
    "    @validator('topics_count')\n",
    "    def topics_count_must_be_positive(cls, v):\n",
    "        if v <= 0:\n",
    "            raise ValueError(\"Topics count must be positive\")\n",
    "        return v\n",
    "    \n"
   ]
  },
  {
   "cell_type": "markdown",
   "id": "2563b465",
   "metadata": {},
   "source": [
    "Step 2: Validate and Clean Data"
   ]
  },
  {
   "cell_type": "code",
   "execution_count": 12,
   "id": "02b1bad0",
   "metadata": {},
   "outputs": [],
   "source": [
    "import pandas as pd\n",
    "\n",
    "#df is your DataFrame\n",
    "valid_data = []\n",
    "invalid_data = []\n",
    "\n",
    "for index, row in df.iterrows():\n",
    "    try:\n",
    "        # Convert row to dictionary and validate\n",
    "        topic = ContentPDFClass(**row.to_dict())\n",
    "        valid_data.append(topic.dict(by_alias=True))\n",
    "    except Exception as e:\n",
    "        print(f\"Invalid data at row {index}: {e}\")\n",
    "        invalid_data.append(row.to_dict())\n",
    "\n",
    "# Convert valid data back to DataFrame\n",
    "clean_df = pd.DataFrame(valid_data)\n",
    "\n",
    "# Optionally, save invalid data for review\n",
    "invalid_df = pd.DataFrame(invalid_data)\n"
   ]
  },
  {
   "cell_type": "markdown",
   "id": "fccc30fa",
   "metadata": {},
   "source": [
    "Step 3: Save the Clean DataFrame to CSV"
   ]
  },
  {
   "cell_type": "code",
   "execution_count": 13,
   "id": "e40b869a",
   "metadata": {},
   "outputs": [],
   "source": [
    "clean_output_csv_path = \"/Users/riyasingh/Downloads/Datasets/clean_final_output.csv\"\n",
    "clean_df.to_csv(clean_output_csv_path, index=False)"
   ]
  },
  {
   "cell_type": "code",
   "execution_count": 16,
   "id": "f16e0ab0",
   "metadata": {},
   "outputs": [
    {
     "name": "stdout",
     "output_type": "stream",
     "text": [
      "Requirement already satisfied: ipytest in /Users/riyasingh/anaconda3/lib/python3.11/site-packages (0.14.0)\n",
      "Requirement already satisfied: ipython in /Users/riyasingh/anaconda3/lib/python3.11/site-packages (from ipytest) (8.15.0)\n",
      "Requirement already satisfied: packaging in /Users/riyasingh/anaconda3/lib/python3.11/site-packages (from ipytest) (23.1)\n",
      "Requirement already satisfied: pytest>=5.4 in /Users/riyasingh/anaconda3/lib/python3.11/site-packages (from ipytest) (7.4.0)\n",
      "Requirement already satisfied: iniconfig in /Users/riyasingh/anaconda3/lib/python3.11/site-packages (from pytest>=5.4->ipytest) (1.1.1)\n",
      "Requirement already satisfied: pluggy<2.0,>=0.12 in /Users/riyasingh/anaconda3/lib/python3.11/site-packages (from pytest>=5.4->ipytest) (1.0.0)\n",
      "Requirement already satisfied: backcall in /Users/riyasingh/anaconda3/lib/python3.11/site-packages (from ipython->ipytest) (0.2.0)\n",
      "Requirement already satisfied: decorator in /Users/riyasingh/anaconda3/lib/python3.11/site-packages (from ipython->ipytest) (5.1.1)\n",
      "Requirement already satisfied: jedi>=0.16 in /Users/riyasingh/anaconda3/lib/python3.11/site-packages (from ipython->ipytest) (0.18.1)\n",
      "Requirement already satisfied: matplotlib-inline in /Users/riyasingh/anaconda3/lib/python3.11/site-packages (from ipython->ipytest) (0.1.6)\n",
      "Requirement already satisfied: pickleshare in /Users/riyasingh/anaconda3/lib/python3.11/site-packages (from ipython->ipytest) (0.7.5)\n",
      "Requirement already satisfied: prompt-toolkit!=3.0.37,<3.1.0,>=3.0.30 in /Users/riyasingh/anaconda3/lib/python3.11/site-packages (from ipython->ipytest) (3.0.36)\n",
      "Requirement already satisfied: pygments>=2.4.0 in /Users/riyasingh/anaconda3/lib/python3.11/site-packages (from ipython->ipytest) (2.15.1)\n",
      "Requirement already satisfied: stack-data in /Users/riyasingh/anaconda3/lib/python3.11/site-packages (from ipython->ipytest) (0.2.0)\n",
      "Requirement already satisfied: traitlets>=5 in /Users/riyasingh/anaconda3/lib/python3.11/site-packages (from ipython->ipytest) (5.7.1)\n",
      "Requirement already satisfied: pexpect>4.3 in /Users/riyasingh/anaconda3/lib/python3.11/site-packages (from ipython->ipytest) (4.8.0)\n",
      "Requirement already satisfied: appnope in /Users/riyasingh/anaconda3/lib/python3.11/site-packages (from ipython->ipytest) (0.1.2)\n",
      "Requirement already satisfied: parso<0.9.0,>=0.8.0 in /Users/riyasingh/anaconda3/lib/python3.11/site-packages (from jedi>=0.16->ipython->ipytest) (0.8.3)\n",
      "Requirement already satisfied: ptyprocess>=0.5 in /Users/riyasingh/anaconda3/lib/python3.11/site-packages (from pexpect>4.3->ipython->ipytest) (0.7.0)\n",
      "Requirement already satisfied: wcwidth in /Users/riyasingh/anaconda3/lib/python3.11/site-packages (from prompt-toolkit!=3.0.37,<3.1.0,>=3.0.30->ipython->ipytest) (0.2.5)\n",
      "Requirement already satisfied: executing in /Users/riyasingh/anaconda3/lib/python3.11/site-packages (from stack-data->ipython->ipytest) (0.8.3)\n",
      "Requirement already satisfied: asttokens in /Users/riyasingh/anaconda3/lib/python3.11/site-packages (from stack-data->ipython->ipytest) (2.0.5)\n",
      "Requirement already satisfied: pure-eval in /Users/riyasingh/anaconda3/lib/python3.11/site-packages (from stack-data->ipython->ipytest) (0.2.2)\n",
      "Requirement already satisfied: six in /Users/riyasingh/anaconda3/lib/python3.11/site-packages (from asttokens->stack-data->ipython->ipytest) (1.16.0)\n",
      "\u001b[33mWARNING: There was an error checking the latest version of pip.\u001b[0m\u001b[33m\n",
      "\u001b[0mDefaulting to user installation because normal site-packages is not writeable\n",
      "Collecting ipytest\n",
      "  Using cached ipytest-0.14.0-py3-none-any.whl (14 kB)\n",
      "Collecting pytest>=5.4\n",
      "  Downloading pytest-8.0.2-py3-none-any.whl (333 kB)\n",
      "\u001b[K     |████████████████████████████████| 333 kB 4.8 MB/s eta 0:00:01\n",
      "\u001b[?25hRequirement already satisfied: packaging in /Users/riyasingh/Library/Python/3.9/lib/python/site-packages (from ipytest) (23.2)\n",
      "Requirement already satisfied: ipython in /Users/riyasingh/Library/Python/3.9/lib/python/site-packages (from ipytest) (8.18.1)\n",
      "Collecting iniconfig\n",
      "  Downloading iniconfig-2.0.0-py3-none-any.whl (5.9 kB)\n",
      "Collecting tomli>=1.0.0\n",
      "  Downloading tomli-2.0.1-py3-none-any.whl (12 kB)\n",
      "Collecting pluggy<2.0,>=1.3.0\n",
      "  Downloading pluggy-1.4.0-py3-none-any.whl (20 kB)\n",
      "Requirement already satisfied: exceptiongroup>=1.0.0rc8 in /Users/riyasingh/Library/Python/3.9/lib/python/site-packages (from pytest>=5.4->ipytest) (1.2.0)\n",
      "Requirement already satisfied: traitlets>=5 in /Users/riyasingh/Library/Python/3.9/lib/python/site-packages (from ipython->ipytest) (5.14.1)\n",
      "Requirement already satisfied: prompt-toolkit<3.1.0,>=3.0.41 in /Users/riyasingh/Library/Python/3.9/lib/python/site-packages (from ipython->ipytest) (3.0.43)\n",
      "Requirement already satisfied: stack-data in /Users/riyasingh/Library/Python/3.9/lib/python/site-packages (from ipython->ipytest) (0.6.3)\n",
      "Requirement already satisfied: pygments>=2.4.0 in /Users/riyasingh/Library/Python/3.9/lib/python/site-packages (from ipython->ipytest) (2.17.2)\n",
      "Requirement already satisfied: pexpect>4.3 in /Users/riyasingh/Library/Python/3.9/lib/python/site-packages (from ipython->ipytest) (4.9.0)\n",
      "Requirement already satisfied: decorator in /Users/riyasingh/Library/Python/3.9/lib/python/site-packages (from ipython->ipytest) (5.1.1)\n",
      "Requirement already satisfied: typing-extensions in /Users/riyasingh/Library/Python/3.9/lib/python/site-packages (from ipython->ipytest) (4.9.0)\n",
      "Requirement already satisfied: matplotlib-inline in /Users/riyasingh/Library/Python/3.9/lib/python/site-packages (from ipython->ipytest) (0.1.6)\n",
      "Requirement already satisfied: jedi>=0.16 in /Users/riyasingh/Library/Python/3.9/lib/python/site-packages (from ipython->ipytest) (0.19.1)\n",
      "Requirement already satisfied: parso<0.9.0,>=0.8.3 in /Users/riyasingh/Library/Python/3.9/lib/python/site-packages (from jedi>=0.16->ipython->ipytest) (0.8.3)\n",
      "Requirement already satisfied: ptyprocess>=0.5 in /Users/riyasingh/Library/Python/3.9/lib/python/site-packages (from pexpect>4.3->ipython->ipytest) (0.7.0)\n",
      "Requirement already satisfied: wcwidth in /Users/riyasingh/Library/Python/3.9/lib/python/site-packages (from prompt-toolkit<3.1.0,>=3.0.41->ipython->ipytest) (0.2.13)\n",
      "Requirement already satisfied: executing>=1.2.0 in /Users/riyasingh/Library/Python/3.9/lib/python/site-packages (from stack-data->ipython->ipytest) (2.0.1)\n",
      "Requirement already satisfied: asttokens>=2.1.0 in /Users/riyasingh/Library/Python/3.9/lib/python/site-packages (from stack-data->ipython->ipytest) (2.4.1)\n",
      "Requirement already satisfied: pure-eval in /Users/riyasingh/Library/Python/3.9/lib/python/site-packages (from stack-data->ipython->ipytest) (0.2.2)\n",
      "Requirement already satisfied: six>=1.12.0 in /Library/Developer/CommandLineTools/Library/Frameworks/Python3.framework/Versions/3.9/lib/python3.9/site-packages (from asttokens>=2.1.0->stack-data->ipython->ipytest) (1.15.0)\n",
      "Installing collected packages: tomli, pluggy, iniconfig, pytest, ipytest\n",
      "Successfully installed iniconfig-2.0.0 ipytest-0.14.0 pluggy-1.4.0 pytest-8.0.2 tomli-2.0.1\n",
      "\u001b[33mWARNING: You are using pip version 21.2.4; however, version 24.0 is available.\n",
      "You should consider upgrading via the '/Library/Developer/CommandLineTools/usr/bin/python3 -m pip install --upgrade pip' command.\u001b[0m\n"
     ]
    }
   ],
   "source": [
    "! pip install ipytest\n",
    "! pip3 install ipytest"
   ]
  },
  {
   "cell_type": "markdown",
   "id": "f293bd19",
   "metadata": {},
   "source": [
    "Test Cases Using Pytest"
   ]
  },
  {
   "cell_type": "code",
   "execution_count": 17,
   "id": "31df0cd6",
   "metadata": {},
   "outputs": [
    {
     "name": "stdout",
     "output_type": "stream",
     "text": [
      "\u001b[1m======================================= test session starts ========================================\u001b[0m\n",
      "platform darwin -- Python 3.9.6, pytest-8.0.2, pluggy-1.4.0\n",
      "rootdir: /Users/riyasingh/Desktop/BigData/Assignment3/notebooks\n",
      "collected 11 items\n",
      "\n",
      "t_9963a3b871cf48ceb69ef03108221496.py \u001b[32m.\u001b[0m\u001b[32m.\u001b[0m\u001b[32m.\u001b[0m\u001b[32m.\u001b[0m\u001b[32m.\u001b[0m\u001b[32m.\u001b[0m\u001b[32m.\u001b[0m\u001b[32m.\u001b[0m\u001b[32m.\u001b[0m\u001b[32m.\u001b[0m\u001b[32m.\u001b[0m\u001b[32m                                            [100%]\u001b[0m\n",
      "\n",
      "\u001b[32m======================================== \u001b[32m\u001b[1m11 passed\u001b[0m\u001b[32m in 0.03s\u001b[0m\u001b[32m ========================================\u001b[0m\n"
     ]
    },
    {
     "data": {
      "text/plain": [
       "<ExitCode.OK: 0>"
      ]
     },
     "execution_count": 17,
     "metadata": {},
     "output_type": "execute_result"
    }
   ],
   "source": [
    "import ipytest\n",
    "ipytest.autoconfig()\n",
    "import pytest\n",
    "\n",
    "#Positive Test Cases\n",
    "def test_valid_file_name():\n",
    "    assert ContentPDFClass(**{'File Name' : 'valid_file.xml', 'Headings' : 'Heading', 'Topics' : 'Topics1|Topic2' , 'Topics Count' : 2})\n",
    "\n",
    "def test_positive_topics_count():\n",
    "    assert ContentPDFClass(**{'File Name' : 'valid_file.xml', 'Headings' : 'Heading', 'Topics' : 'Topics1|Topic2' , 'Topics Count' : 2})\n",
    "\n",
    "def test_valid_topics_string():\n",
    "    \"\"\"Test that a valid topics string passes validation.\"\"\"\n",
    "    model = ContentPDFClass(**{'File Name': \"good_file.xml\", 'Headings': \"Valid Heading\", 'Topics': 'Topic1|Topic2|Topic3', 'Topics Count':3})\n",
    "    assert model.topics == \"Topic1|Topic2|Topic3\"\n",
    "\n",
    "def test_maximum_topics_count():\n",
    "    \"\"\"Test that the maximum expected topics count is considered valid.\"\"\"\n",
    "    model = ContentPDFClass(**{'File Name':'max_topics.xml', 'Headings': 'Max Heading', 'Topics':'T1|T2', 'Topics Count': 2})\n",
    "    assert model.topics_count == 2\n",
    "\n",
    "def test_single_topic():\n",
    "    \"\"\"Test that a single topic is valid.\"\"\"\n",
    "    model = ContentPDFClass(**{'File Name':'single_topic.xml', 'Headings': 'Single Heading', 'Topics':'OnlyOneTopic', 'Topics Count': 1})\n",
    "    assert model.topics == \"OnlyOneTopic\"\n",
    "\n",
    "\n",
    "def test_headings_with_special_characters():\n",
    "    \"\"\"Test that headings with special characters are valid.\"\"\"\n",
    "    model = ContentPDFClass(**{'File Name' : 'special_char_heading.xml', 'Headings' : 'Heading & Heading', 'Topics' : 'Topic1' , 'Topics Count' : 1})\n",
    "    assert '&' in model.headings\n",
    "\n",
    "\n",
    "\n",
    "#Negative Test Cases\n",
    "\n",
    "def test_invalid_file_name():\n",
    "    with pytest.raises(ValueError):\n",
    "        ContentPDFClass(**{'File Name' : 'invalid_file.txt', 'Headings' : 'Heading', 'Topics' : 'Topics1|Topic2' , 'Topics Count' : 2})\n",
    "\n",
    "\n",
    "def test_negative_topics_count():\n",
    "    with pytest.raises(ValueError):\n",
    "        ContentPDFClass(**{'File Name' : 'file.xml', 'Headings' : 'Heading', 'Topics' : 'Topics1|Topic2' , 'Topics Count' : -1})\n",
    "\n",
    "def test_invalid_file_extension():\n",
    "    \"\"\"Test that an invalid file extension raises a ValueError.\"\"\"\n",
    "    with pytest.raises(ValueError):\n",
    "        ContentPDFClass(**{'File Name' : 'invalid_file.txt', 'Headings' : 'Invalid Extension', 'Topics' : 'Topics1' , 'Topics Count' : 1})\n",
    "\n",
    "\n",
    "def test_zero_topics_count_with_non_empty_topics():\n",
    "    \"\"\"Test that a topics count of zero with non-empty topics string raises a ValueError.\"\"\"\n",
    "    with pytest.raises(ValueError):\n",
    "        ContentPDFClass(**{'File Name' : 'zero_topics.xml', 'Headings' : 'Zero Count', 'Topics' : 'Topics1' , 'Topics Count' : 0})\n",
    "\n",
    "        \n",
    "def test_empty_file_name():\n",
    "    \"\"\"Test that an empty file name raises a ValueError.\"\"\"\n",
    "    with pytest.raises(ValueError):\n",
    "        ContentPDFClass(**{'File Name' : '', 'Headings' : 'Empty File Name', 'Topics' : 'Topic1' , 'Topics Count' : 1})\n",
    "\n",
    "\n",
    "ipytest.run('-v')"
   ]
  },
  {
   "cell_type": "code",
   "execution_count": null,
   "id": "4cb35b31",
   "metadata": {},
   "outputs": [],
   "source": []
  },
  {
   "cell_type": "code",
   "execution_count": null,
   "id": "ac646325",
   "metadata": {},
   "outputs": [],
   "source": []
  }
 ],
 "metadata": {
  "kernelspec": {
   "display_name": "Python 3 (ipykernel)",
   "language": "python",
   "name": "python3"
  },
  "language_info": {
   "codemirror_mode": {
    "name": "ipython",
    "version": 3
   },
   "file_extension": ".py",
   "mimetype": "text/x-python",
   "name": "python",
   "nbconvert_exporter": "python",
   "pygments_lexer": "ipython3",
   "version": "3.9.6"
  }
 },
 "nbformat": 4,
 "nbformat_minor": 5
}
