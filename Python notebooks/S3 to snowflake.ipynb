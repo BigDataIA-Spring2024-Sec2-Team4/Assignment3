{
 "cells": [
  {
   "cell_type": "code",
   "execution_count": 1,
   "metadata": {},
   "outputs": [
    {
     "name": "stdout",
     "output_type": "stream",
     "text": [
      "Requirement already satisfied: boto3 in c:\\users\\deepa\\appdata\\local\\packages\\pythonsoftwarefoundation.python.3.11_qbz5n2kfra8p0\\localcache\\local-packages\\python311\\site-packages (1.34.41)\n",
      "Requirement already satisfied: botocore<1.35.0,>=1.34.41 in c:\\users\\deepa\\appdata\\local\\packages\\pythonsoftwarefoundation.python.3.11_qbz5n2kfra8p0\\localcache\\local-packages\\python311\\site-packages (from boto3) (1.34.41)\n",
      "Requirement already satisfied: jmespath<2.0.0,>=0.7.1 in c:\\users\\deepa\\appdata\\local\\packages\\pythonsoftwarefoundation.python.3.11_qbz5n2kfra8p0\\localcache\\local-packages\\python311\\site-packages (from boto3) (1.0.1)\n",
      "Requirement already satisfied: s3transfer<0.11.0,>=0.10.0 in c:\\users\\deepa\\appdata\\local\\packages\\pythonsoftwarefoundation.python.3.11_qbz5n2kfra8p0\\localcache\\local-packages\\python311\\site-packages (from boto3) (0.10.0)\n",
      "Requirement already satisfied: python-dateutil<3.0.0,>=2.1 in c:\\users\\deepa\\appdata\\local\\packages\\pythonsoftwarefoundation.python.3.11_qbz5n2kfra8p0\\localcache\\local-packages\\python311\\site-packages (from botocore<1.35.0,>=1.34.41->boto3) (2.8.2)\n",
      "Requirement already satisfied: urllib3<2.1,>=1.25.4 in c:\\users\\deepa\\appdata\\local\\packages\\pythonsoftwarefoundation.python.3.11_qbz5n2kfra8p0\\localcache\\local-packages\\python311\\site-packages (from botocore<1.35.0,>=1.34.41->boto3) (2.0.4)\n",
      "Requirement already satisfied: six>=1.5 in c:\\users\\deepa\\appdata\\local\\packages\\pythonsoftwarefoundation.python.3.11_qbz5n2kfra8p0\\localcache\\local-packages\\python311\\site-packages (from python-dateutil<3.0.0,>=2.1->botocore<1.35.0,>=1.34.41->boto3) (1.16.0)\n"
     ]
    }
   ],
   "source": [
    "! pip install boto3"
   ]
  },
  {
   "cell_type": "code",
   "execution_count": 3,
   "metadata": {},
   "outputs": [],
   "source": [
    "#Uploading validated data from local machine to Amazon S3 bucket\n",
    "import os\n",
    "import boto3\n",
    "from dotenv import load_dotenv\n",
    "\n",
    "# Load environment variables\n",
    "load_dotenv()\n",
    "\n",
    "# AWS credentials\n",
    "aws_access_key_id = os.getenv(\"access_id\")\n",
    "aws_secret_access_key = os.getenv(\"secret_key\")\n",
    "\n",
    "# S3 bucket details\n",
    "s3_bucket_name = \"validateddata\"  # Replace with your S3 bucket name\n",
    "\n",
    "# Local CSV file path\n",
    "local_csv_path = \"C:/Users/deepa/Documents/Repo/Assignment3/validated_CFA.csv\"\n",
    "\n",
    "# AWS S3 client\n",
    "s3_client = boto3.client('s3', aws_access_key_id=aws_access_key_id, aws_secret_access_key=aws_secret_access_key)\n",
    "\n",
    "# Upload CSV file to the root of S3 bucket\n",
    "s3_key = \"validated_CFA.csv\"\n",
    "s3_client.upload_file(local_csv_path, s3_bucket_name, s3_key)\n"
   ]
  },
  {
   "cell_type": "code",
   "execution_count": 11,
   "metadata": {},
   "outputs": [
    {
     "name": "stdout",
     "output_type": "stream",
     "text": [
      "Done\n"
     ]
    }
   ],
   "source": [
    "# Loading validated data to Snowflake database from Amazon S3 buckeet\n",
    "import os\n",
    "from sqlalchemy import create_engine, Column, Integer, String\n",
    "from dotenv import load_dotenv\n",
    "import snowflake.connector\n",
    "import warnings\n",
    "\n",
    "# Loading the environment variables from .env file\n",
    "load_dotenv()\n",
    "\n",
    "# AWS credentials\n",
    "aws_access_key_id = os.getenv(\"access_id\")\n",
    "aws_secret_access_key = os.getenv(\"secret_key\")\n",
    "\n",
    "# Ignore warnings\n",
    "warnings.filterwarnings(\"ignore\")\n",
    "\n",
    "# Snowflake engine for creating databases and warehouses\n",
    "snowflake_engine = create_engine(\n",
    "    'snowflake://{user}:{password}@{account}/'.format(\n",
    "        user=os.getenv(\"SNOWFLAKE_USER\"),\n",
    "        password=os.getenv(\"SNOWFLAKE_PASSWORD\"),\n",
    "        account=os.getenv(\"SNOWFLAKE_ACCOUNT\"),\n",
    "    )\n",
    ")\n",
    "\n",
    "try:\n",
    "    # Snowflake operations\n",
    "    snowflake_connection = snowflake_engine.connect()\n",
    "\n",
    "    # Create databases\n",
    "    create_raw_database_query = \"CREATE OR REPLACE DATABASE RAW;\"\n",
    "    create_dbt_database_query = \"CREATE OR REPLACE DATABASE DBT;\"\n",
    "    results = snowflake_connection.execute(create_raw_database_query)\n",
    "    results = snowflake_connection.execute(create_dbt_database_query)\n",
    "\n",
    "    # Use RAW database\n",
    "    results = snowflake_connection.execute(\"USE DATABASE RAW\")\n",
    "\n",
    "    # Create warehouse\n",
    "    create_warehouse_query = \"\"\"CREATE OR REPLACE WAREHOUSE TRANSFORM\n",
    "        WITH WAREHOUSE_SIZE='X-SMALL'\n",
    "        AUTO_SUSPEND = 180\n",
    "        AUTO_RESUME = TRUE\n",
    "        INITIALLY_SUSPENDED=TRUE;\"\"\"\n",
    "    results = snowflake_connection.execute(create_warehouse_query)\n",
    "\n",
    "    # Create the RAW.MFA_TABLE\n",
    "    create_raw_table_query = \"\"\"CREATE OR REPLACE TABLE MFA_TABLE (\n",
    "        Name_of_the_topic STRING,\n",
    "        Year INTEGER,\n",
    "        Level INTEGER,\n",
    "        Introduction_Summary STRING,\n",
    "        Learning_Outcomes STRING,\n",
    "        Link_to_the_Summary_Page STRING(255),\n",
    "        Link_to_the_PDF_file STRING(255)\n",
    "    );\"\"\"\n",
    "    results = snowflake_connection.execute(create_raw_table_query)\n",
    "\n",
    "    # Create stage\n",
    "    create_stage_query = f\"\"\"CREATE STAGE DUMMY\n",
    "        URL = 's3://validateddata'\n",
    "        CREDENTIALS = (\n",
    "            aws_key_id='{aws_access_key_id}' \n",
    "            aws_secret_key='{aws_secret_access_key}'\n",
    "        )\n",
    "        FILE_FORMAT = (TYPE = CSV FIELD_OPTIONALLY_ENCLOSED_BY = '\"' SKIP_HEADER = 1);\"\"\"\n",
    "    results = snowflake_connection.execute(create_stage_query)\n",
    "\n",
    "    # Upload data to stage and copy from stage to table\n",
    "    copy_stage_to_table_raw_query = f\"\"\"COPY INTO MFA_TABLE\n",
    "        FROM @DUMMY\n",
    "        FILE_FORMAT = (TYPE = CSV FIELD_OPTIONALLY_ENCLOSED_BY = '\"' SKIP_HEADER = 1)\n",
    "        PATTERN = '.*validated_CFA.csv.gz'\n",
    "        ON_ERROR = 'CONTINUE';\"\"\"\n",
    "    results = snowflake_connection.execute(copy_stage_to_table_raw_query)\n",
    "\n",
    "finally:\n",
    "    print(\"Done\")\n",
    "    snowflake_connection.close()\n",
    "    snowflake_engine.dispose()\n"
   ]
  }
 ],
 "metadata": {
  "kernelspec": {
   "display_name": "Python 3",
   "language": "python",
   "name": "python3"
  },
  "language_info": {
   "codemirror_mode": {
    "name": "ipython",
    "version": 3
   },
   "file_extension": ".py",
   "mimetype": "text/x-python",
   "name": "python",
   "nbconvert_exporter": "python",
   "pygments_lexer": "ipython3",
   "version": "3.11.8"
  }
 },
 "nbformat": 4,
 "nbformat_minor": 2
}
