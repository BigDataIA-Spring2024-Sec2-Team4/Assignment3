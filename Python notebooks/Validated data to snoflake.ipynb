{
 "cells": [
  {
   "cell_type": "code",
   "execution_count": 1,
   "metadata": {},
   "outputs": [
    {
     "name": "stdout",
     "output_type": "stream",
     "text": [
      "Requirement already satisfied: sqlalchemy in c:\\users\\deepa\\appdata\\local\\packages\\pythonsoftwarefoundation.python.3.11_qbz5n2kfra8p0\\localcache\\local-packages\\python311\\site-packages (1.4.51)\n",
      "Requirement already satisfied: greenlet!=0.4.17 in c:\\users\\deepa\\appdata\\local\\packages\\pythonsoftwarefoundation.python.3.11_qbz5n2kfra8p0\\localcache\\local-packages\\python311\\site-packages (from sqlalchemy) (3.0.3)\n"
     ]
    }
   ],
   "source": [
    "! pip install sqlalchemy"
   ]
  },
  {
   "cell_type": "code",
   "execution_count": 2,
   "metadata": {},
   "outputs": [
    {
     "name": "stdout",
     "output_type": "stream",
     "text": [
      "Done\n"
     ]
    }
   ],
   "source": [
    "# This script uploads the validated MFA data from local machine to Snoflake database\n",
    "import os\n",
    "from sqlalchemy import create_engine, Column, Integer, String\n",
    "from dotenv import load_dotenv\n",
    "import snowflake.connector\n",
    "import warnings\n",
    "\n",
    "# Loading the environment variables from .env file\n",
    "load_dotenv()\n",
    "\n",
    "# Ignore warnings\n",
    "warnings.filterwarnings(\"ignore\")\n",
    "\n",
    "# Snowflake engine for creating databases and warehouses\n",
    "snowflake_engine = create_engine(\n",
    "    'snowflake://{user}:{password}@{account}/'.format(\n",
    "        user=os.getenv(\"SNOWFLAKE_USER\"),\n",
    "        password=os.getenv(\"SNOWFLAKE_PASSWORD\"),\n",
    "        account=os.getenv(\"SNOWFLAKE_ACCOUNT\"),\n",
    "    )\n",
    ")\n",
    "\n",
    "try:\n",
    "    # Snowflake operations\n",
    "    snowflake_connection = snowflake_engine.connect()\n",
    "\n",
    "    # Create databases\n",
    "    create_raw_database_query = \"CREATE OR REPLACE DATABASE RAW;\"\n",
    "    create_dbt_database_query = \"CREATE OR REPLACE DATABASE DBT;\"\n",
    "    results = snowflake_connection.execute(create_raw_database_query)\n",
    "    results = snowflake_connection.execute(create_dbt_database_query)\n",
    "\n",
    "    # Use RAW database\n",
    "    results = snowflake_connection.execute(\"USE DATABASE RAW\")\n",
    "\n",
    "    # Create warehouse\n",
    "    create_warehouse_query = \"\"\"CREATE OR REPLACE WAREHOUSE TRANSFORM\n",
    "        WITH WAREHOUSE_SIZE='X-SMALL'\n",
    "        AUTO_SUSPEND = 180\n",
    "        AUTO_RESUME = TRUE\n",
    "        INITIALLY_SUSPENDED=TRUE;\"\"\"\n",
    "    results = snowflake_connection.execute(create_warehouse_query)\n",
    "\n",
    "    # Create the RAW.MFA_TABLE\n",
    "    create_raw_table_query = \"\"\"CREATE OR REPLACE TABLE MFA_TABLE (\n",
    "        Name_of_the_topic STRING,\n",
    "        Year INTEGER,\n",
    "        Level INTEGER,\n",
    "        Introduction_Summary STRING,\n",
    "        Learning_Outcomes STRING,\n",
    "        Link_to_the_Summary_Page STRING(255),\n",
    "        Link_to_the_PDF_file STRING(255)\n",
    "    );\"\"\"\n",
    "    results = snowflake_connection.execute(create_raw_table_query)\n",
    "\n",
    "    # Create stage\n",
    "    create_stage_query = \"\"\"CREATE STAGE DUMMY DIRECTORY = (ENABLE = true)\"\"\"\n",
    "    results = snowflake_connection.execute(create_stage_query)\n",
    "\n",
    "    # Upload data to stage\n",
    "    upload_to_stage_query = \"\"\"PUT 'file://C:/Users/deepa/Documents/Repo/Assignment3/validated_CFA.csv' @DUMMY\"\"\"\n",
    "    results = snowflake_connection.execute(upload_to_stage_query)\n",
    "\n",
    "    # Copy data from stage to table\n",
    "    copy_stage_to_table_raw_query = \"\"\"COPY INTO MFA_TABLE\n",
    "        FROM @DUMMY\n",
    "        FILE_FORMAT = (TYPE = CSV FIELD_OPTIONALLY_ENCLOSED_BY = '\"' SKIP_HEADER = 1)\n",
    "        PATTERN = '.*validated_CFA.csv.gz'\n",
    "        ON_ERROR = 'CONTINUE';\"\"\"\n",
    "    results = snowflake_connection.execute(copy_stage_to_table_raw_query)\n",
    "\n",
    "finally:\n",
    "    print(\"Done\")\n",
    "    snowflake_connection.close()\n",
    "    snowflake_engine.dispose()\n"
   ]
  }
 ],
 "metadata": {
  "kernelspec": {
   "display_name": "Python 3",
   "language": "python",
   "name": "python3"
  },
  "language_info": {
   "codemirror_mode": {
    "name": "ipython",
    "version": 3
   },
   "file_extension": ".py",
   "mimetype": "text/x-python",
   "name": "python",
   "nbconvert_exporter": "python",
   "pygments_lexer": "ipython3",
   "version": "3.11.8"
  }
 },
 "nbformat": 4,
 "nbformat_minor": 2
}
